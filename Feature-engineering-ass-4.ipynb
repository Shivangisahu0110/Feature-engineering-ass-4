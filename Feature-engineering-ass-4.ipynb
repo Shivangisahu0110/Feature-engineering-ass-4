{
 "cells": [
  {
   "cell_type": "markdown",
   "id": "ce58140c-b195-4d6f-b2ef-b2389e112347",
   "metadata": {},
   "source": [
    "Q1. What is the difference between Ordinal Encoding and Label Encoding? Provide an example of when you\n",
    "might choose one over the other."
   ]
  },
  {
   "cell_type": "markdown",
   "id": "240e8b7c-0303-425a-80c6-ac3acde12d4f",
   "metadata": {},
   "source": [
    "Label Encoding:\n",
    "\n",
    "Label Encoding involves assigning a unique numerical value to each unique category in a categorical feature.\n",
    "For example, if you have a categorical feature like Color with categories Red, Green, and Blue, you could assign Red as 0, Green as 1, and Blue as 2.\n",
    "\n",
    "The drawback of Label Encoding is that it implicitly assumes an ordinal relationship between the categories (i.e., an ordering or ranking), which may not exist.\n",
    "\n",
    "Ordinal Encoding:\n",
    "\n",
    "Ordinal Encoding also assigns numerical values to categorical data, but with a crucial difference: it explicitly defines the order (or rank) of the categories.\n",
    "\n",
    "This encoding is suitable when the categorical values have a meaningful order. For example, in a feature like Size with categories Small, Medium, and Large, we might use Ordinal Encoding to assign Small as 0, Medium as 1, and Large as 2, reflecting their inherent order."
   ]
  },
  {
   "cell_type": "markdown",
   "id": "304f34be-2a61-4852-9cc3-547da9190de5",
   "metadata": {},
   "source": [
    "Q2. Explain how Target Guided Ordinal Encoding works and provide an example of when you might use it in\n",
    "a machine learning project."
   ]
  },
  {
   "cell_type": "markdown",
   "id": "d5498bf1-03b4-4292-99a5-a5c22b8bfeef",
   "metadata": {},
   "source": [
    "Target Guided Ordinal Encoding is a method of encoding categorical variables where the categories are ranked based on the target variable. This technique is particularly useful when dealing with classification tasks where the target variable is categorical. The goal is to transform categorical features into ordinal values that are ordered with respect to the target variable's mean or median value for each category.\n",
    "\n",
    "Here's a step-by-step explanation of how Target Guided Ordinal Encoding works:\n",
    "\n",
    "Calculate Target Statistics: For each category in the categorical feature, compute a statistical value (e.g., mean, median) of the target variable.\n",
    "\n",
    "Order Categories: Sort the categories based on their corresponding statistical values. This ordering reflects the relationship between the categorical feature and the target variable.\n",
    "\n",
    "Assign Ordinal Labels: Assign ordinal labels (numerical values) to the categories based on their order. The category with the lowest (or highest) statistical value may receive the lowest (or highest) label.\n",
    "\n",
    "Replace Categories: Replace the original categorical values with the assigned ordinal labels."
   ]
  },
  {
   "cell_type": "code",
   "execution_count": 8,
   "id": "c060df4b-b35c-4df6-8af5-b8d5e3317fe0",
   "metadata": {},
   "outputs": [
    {
     "name": "stdout",
     "output_type": "stream",
     "text": [
      "  Education Level  Subscribed  Education Level Encoded\n",
      "0     High School           0                        1\n",
      "1         College           1                        2\n",
      "2     High School           1                        1\n",
      "3        Graduate           0                        0\n",
      "4         College           1                        2\n",
      "5        Graduate           0                        0\n"
     ]
    }
   ],
   "source": [
    "import pandas as pd\n",
    "import numpy as np\n",
    "\n",
    "# Sample data\n",
    "data = {\n",
    "    'Education Level': ['High School', 'College', 'High School', 'Graduate', 'College', 'Graduate'],\n",
    "    'Subscribed': [0, 1, 1, 0, 1, 0]  # Target variable (0 = Not Subscribed, 1 = Subscribed)\n",
    "}\n",
    "\n",
    "df = pd.DataFrame(data)\n",
    "\n",
    "# Calculate mean of 'Subscribed' for each 'Education Level'\n",
    "education_level_means = df.groupby('Education Level')['Subscribed'].mean().sort_values()\n",
    "\n",
    "# Create mapping dictionary based on mean values\n",
    "ordinal_mapping = {level: i for i, level in enumerate(education_level_means.index)}\n",
    "\n",
    "# Map 'Education Level' to ordinal values\n",
    "df['Education Level Encoded'] = df['Education Level'].map(ordinal_mapping)\n",
    "\n",
    "print(df)\n"
   ]
  },
  {
   "cell_type": "markdown",
   "id": "9d34af3a-053e-4e2a-ae9e-18bf9c00133a",
   "metadata": {},
   "source": [
    "Q3. Define covariance and explain why it is important in statistical analysis. How is covariance calculated?"
   ]
  },
  {
   "cell_type": "markdown",
   "id": "00a0f356-0da7-4344-89d0-42f0466fdde5",
   "metadata": {},
   "source": [
    "\n",
    "Covariance Definition:\n",
    "\n",
    "Covariance is a measure of how much two random variables change together. In statistical analysis, covariance indicates the degree to which two variables tend to vary together. If the covariance between two variables is positive, it means that when one variable increases, the other variable tends to increase as well. Conversely, if the covariance is negative, it indicates that as one variable increases, the other tends to decrease.\n",
    "\n",
    "Importance of Covariance in Statistical Analysis:\n",
    "\n",
    "Covariance is important in statistical analysis for several reasons:\n",
    "\n",
    "Relationship between Variables: Covariance provides insights into the relationship between two variables. A positive covariance indicates a positive relationship (both variables move in the same direction), while a negative covariance indicates an inverse relationship (variables move in opposite directions).\n",
    "\n",
    "Scale of Variability: Covariance is a measure of the scale of variability between variables. Larger covariances indicate stronger relationships, whereas smaller covariances suggest weaker relationships.\n",
    "\n",
    "Used in Calculating Correlation: Covariance is used to calculate correlation coefficients, such as Pearson's correlation coefficient. Correlation coefficients normalize covariance values to provide a standardized measure of the relationship between variables, which is useful for comparing different datasets."
   ]
  },
  {
   "attachments": {
    "7d5c22d2-ff37-43d3-9896-74f24cbc4943.png": {
     "image/png": "[encoded data removed]"
    }
   },
   "cell_type": "markdown",
   "id": "449cb555-86f1-41c5-815d-70e6b849a3b7",
   "metadata": {},
   "source": [
    "![image.png](attachment:7d5c22d2-ff37-43d3-9896-74f24cbc4943.png)"
   ]
  },
  {
   "cell_type": "markdown",
   "id": "401fbcb5-1f44-400e-9178-bae5cb2967af",
   "metadata": {},
   "source": [
    "Where,\n",
    "\n",
    "Xi  is the values of the X-variable\n",
    "\n",
    "Yi is the values of the Y-variable\n",
    "\n",
    "X is the mean of the X-variable\n",
    "\n",
    "Y is the mean of the Y-variable\n",
    "\n",
    "n is the number of data points"
   ]
  },
  {
   "cell_type": "markdown",
   "id": "65074abb-d333-4b23-91d5-56f0e5b64ac1",
   "metadata": {},
   "source": [
    "Q4. For a dataset with the following categorical variables: Color (red, green, blue), Size (small, medium,\n",
    "large), and Material (wood, metal, plastic), perform label encoding using Python's scikit-learn library.\n",
    "Show your code and explain the output."
   ]
  },
  {
   "cell_type": "code",
   "execution_count": 10,
   "id": "94a31f8d-ca6b-4d82-b6db-942b8a882f45",
   "metadata": {},
   "outputs": [
    {
     "name": "stdout",
     "output_type": "stream",
     "text": [
      "Original DataFrame:\n",
      "   Color    Size Material\n",
      "0    red   small     wood\n",
      "1  green  medium    metal\n",
      "2   blue   large  plastic\n",
      "3    red  medium    metal\n",
      "4  green   small  plastic\n",
      "\n",
      "DataFrame after Label Encoding:\n",
      "   Color    Size Material  Color_Encoded  Size_Encoded  Material_Encoded\n",
      "0    red   small     wood              2             2                 2\n",
      "1  green  medium    metal              1             1                 0\n",
      "2   blue   large  plastic              0             0                 1\n",
      "3    red  medium    metal              2             1                 0\n",
      "4  green   small  plastic              1             2                 1\n"
     ]
    }
   ],
   "source": [
    "from sklearn.preprocessing import LabelEncoder\n",
    "import pandas as pd\n",
    "\n",
    "# Create a sample DataFrame with categorical variables\n",
    "data = {\n",
    "    'Color': ['red', 'green', 'blue', 'red', 'green'],\n",
    "    'Size': ['small', 'medium', 'large', 'medium', 'small'],\n",
    "    'Material': ['wood', 'metal', 'plastic', 'metal', 'plastic']\n",
    "}\n",
    "\n",
    "df = pd.DataFrame(data)\n",
    "print(\"Original DataFrame:\")\n",
    "print(df)\n",
    "\n",
    "# Initialize LabelEncoder\n",
    "label_encoder = LabelEncoder()\n",
    "\n",
    "# Apply label encoding to each categorical column\n",
    "df['Color_Encoded'] = label_encoder.fit_transform(df['Color'])\n",
    "df['Size_Encoded'] = label_encoder.fit_transform(df['Size'])\n",
    "df['Material_Encoded'] = label_encoder.fit_transform(df['Material'])\n",
    "\n",
    "print(\"\\nDataFrame after Label Encoding:\")\n",
    "print(df)\n"
   ]
  },
  {
   "cell_type": "markdown",
   "id": "99ba31ca-ff1b-43c8-85b9-45a91dd54db1",
   "metadata": {},
   "source": [
    "Q5. Calculate the covariance matrix for the following variables in a dataset: Age, Income, and Education\n",
    "level. Interpret the results."
   ]
  },
  {
   "cell_type": "code",
   "execution_count": 11,
   "id": "3bc5a159-4d8d-46a8-85b1-a0ddac384822",
   "metadata": {},
   "outputs": [
    {
     "name": "stdout",
     "output_type": "stream",
     "text": [
      "Original DataFrame:\n",
      "   Age  Income Education Level\n",
      "0   30   50000        Bachelor\n",
      "1   40   70000          Master\n",
      "2   25   40000        Bachelor\n",
      "3   35   60000             PhD\n",
      "4   28   45000        Bachelor\n",
      "\n",
      "Covariance Matrix:\n",
      "[[3.53e+01 7.15e+04]\n",
      " [7.15e+04 1.45e+08]]\n"
     ]
    }
   ],
   "source": [
    "import numpy as np\n",
    "import pandas as pd\n",
    "\n",
    "# Create a sample DataFrame with Age, Income, and Education level\n",
    "data = {\n",
    "    'Age': [30, 40, 25, 35, 28],\n",
    "    'Income': [50000, 70000, 40000, 60000, 45000],\n",
    "    'Education Level': ['Bachelor', 'Master', 'Bachelor', 'PhD', 'Bachelor']\n",
    "}\n",
    "\n",
    "df = pd.DataFrame(data)\n",
    "print(\"Original DataFrame:\")\n",
    "print(df)\n",
    "\n",
    "# Calculate covariance matrix using NumPy\n",
    "cov_matrix = np.cov(df[['Age', 'Income']].T)\n",
    "\n",
    "print(\"\\nCovariance Matrix:\")\n",
    "print(cov_matrix)\n"
   ]
  },
  {
   "cell_type": "markdown",
   "id": "615c1c3a-1580-4bc5-8fda-e349ae3c31ac",
   "metadata": {},
   "source": [
    "Q6. You are working on a machine learning project with a dataset containing several categorical\n",
    "variables, including \"Gender\" (Male/Female), \"Education Level\" (High School/Bachelor's/Master's/PhD),\n",
    "and \"Employment Status\" (Unemployed/Part-Time/Full-Time). Which encoding method would you use for\n",
    "each variable, and why?"
   ]
  },
  {
   "cell_type": "markdown",
   "id": "3616564e-6985-429e-8efc-d06586a630f9",
   "metadata": {},
   "source": [
    "Gender (Binary Categorical Variable - Nominal):\n",
    "\n",
    "Encoding Method: One-Hot Encoding\n",
    "Why?: Gender has two distinct categories (Male/Female), and there is no ordinal relationship between them. One-Hot Encoding will create two binary (0/1) columns (Gender_Male and Gender_Female), representing the presence or absence of each category. This method is suitable for nominal categorical variables without an inherent order.\n",
    "\n",
    "Education Level (Multi-Class Categorical Variable - Ordinal):\n",
    "\n",
    "Encoding Method: Ordinal Encoding\n",
    "Why?: Education Level represents a categorical variable with a clear ordinal relationship (e.g., High School < Bachelor's < Master's < PhD). Ordinal Encoding assigns numerical labels based on the natural order of categories. This method preserves the ordinal relationship in the data.\n",
    "\n",
    "Employment Status (Multi-Class Categorical Variable - Nominal):\n",
    "\n",
    "Encoding Method: One-Hot Encoding\n",
    "Why?: Employment Status has multiple categories (Unemployed, Part-Time, Full-Time) without a clear ordinal relationship. Using One-Hot Encoding will create separate binary columns for each category, capturing the presence or absence of each status independently."
   ]
  },
  {
   "cell_type": "markdown",
   "id": "987f762c-881b-4a4a-84a1-05e677815a9e",
   "metadata": {},
   "source": [
    "Additional Considerations:\n",
    "\n",
    "Label Encoding vs. One-Hot Encoding: Label Encoding should be avoided for categorical variables like \"Education Level\" because it may imply false ordinal relationships. One-Hot Encoding is preferred for nominal variables to avoid such misconceptions.\n",
    "\n",
    "Sparse Matrix: One-Hot Encoding can result in a sparse matrix with many columns, which can impact the model's performance and computational efficiency. However, it accurately represents the categorical variables without imposing any ordinal relationship."
   ]
  },
  {
   "cell_type": "markdown",
   "id": "819354e8-3d7e-4225-98c8-1b35fa013c37",
   "metadata": {},
   "source": [
    "Q7. You are analyzing a dataset with two continuous variables, \"Temperature\" and \"Humidity\", and two\n",
    "categorical variables, \"Weather Condition\" (Sunny/Cloudy/Rainy) and \"Wind Direction\" (North/South/\n",
    "East/West). Calculate the covariance between each pair of variables and interpret the results."
   ]
  },
  {
   "cell_type": "markdown",
   "id": "6cb195e8-5629-413a-8034-361cfb88e7bc",
   "metadata": {},
   "source": [
    "To calculate the covariance between pairs of variables in a dataset with both continuous (Temperature, Humidity) and categorical (Weather Condition, Wind Direction) variables, we need to consider how covariance applies to different types of data.\n",
    "\n",
    "Covariance is a measure of the relationship between two variables. It indicates whether the variables change together (positive covariance), change in opposite directions (negative covariance), or are independent (covariance near zero).\n",
    "\n",
    "Continuous Variables:\n",
    "\n",
    "Temperature\n",
    "\n",
    "Humidity\n",
    "\n",
    "Categorical Variables:\n",
    "\n",
    "Weather Condition (Sunny/Cloudy/Rainy)\n",
    "\n",
    "Wind Direction (North/South/East/West)"
   ]
  },
  {
   "cell_type": "code",
   "execution_count": 13,
   "id": "bb7682f9-17a3-43f0-a83f-85edd79589ac",
   "metadata": {},
   "outputs": [
    {
     "name": "stdout",
     "output_type": "stream",
     "text": [
      "Covariance between Temperature and Humidity: -20.0\n"
     ]
    }
   ],
   "source": [
    "import pandas as pd\n",
    "\n",
    "# Sample data (replace with your actual dataset)\n",
    "data = {\n",
    "    'Temperature': [25, 30, 22, 28, 26],\n",
    "    'Humidity': [60, 55, 70, 50, 65],\n",
    "    'Weather Condition': ['Sunny', 'Cloudy', 'Rainy', 'Sunny', 'Cloudy'],\n",
    "    'Wind Direction': ['North', 'South', 'East', 'West', 'North']\n",
    "}\n",
    "\n",
    "df = pd.DataFrame(data)\n",
    "\n",
    "# Calculate covariance between Temperature and Humidity\n",
    "cov_temp_humidity = df['Temperature'].cov(df['Humidity'])\n",
    "print(f\"Covariance between Temperature and Humidity: {cov_temp_humidity}\")\n",
    "\n",
    "\n",
    "import pandas as pd\n",
    "\n",
    "# Sample data (replace with your actual dataset)\n",
    "data = {\n",
    "    'Temperature': [25, 30, 22, 28, 26],\n",
    "    'Humidity': [60, 55, 70, 50, 65],\n",
    "    'Weather Condition': ['Sunny', 'Cloudy', 'Rainy', 'Sunny', 'Cloudy'],\n",
    "    'Wind Direction': ['North', 'South', 'East', 'West', 'North']\n",
    "}\n",
    "\n",
    "df = pd.DataFrame(data)\n",
    "\n",
    "# Calculate covariance between Temperature and Humidity\n",
    "cov_temp_humidity = df['Temperature'].cov(df['Humidity'])\n",
    "print(f\"Covariance between Temperature and Humidity: {cov_temp_humidity}\")\n"
   ]
  },
  {
   "cell_type": "code",
   "execution_count": null,
   "id": "be128e1f-40d0-4f11-9a1f-4204d3d201f3",
   "metadata": {},
   "outputs": [],
   "source": []
  }
 ],
 "metadata": {
  "kernelspec": {
   "display_name": "Python 3 (ipykernel)",
   "language": "python",
   "name": "python3"
  },
  "language_info": {
   "codemirror_mode": {
    "name": "ipython",
    "version": 3
   },
   "file_extension": ".py",
   "mimetype": "text/x-python",
   "name": "python",
   "nbconvert_exporter": "python",
   "pygments_lexer": "ipython3",
   "version": "3.10.8"
  }
 },
 "nbformat": 4,
 "nbformat_minor": 5
}
